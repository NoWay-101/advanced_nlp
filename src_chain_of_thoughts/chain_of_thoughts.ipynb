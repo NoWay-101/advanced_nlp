{
  "cells": [
    {
      "cell_type": "code",
      "execution_count": 8,
      "metadata": {
        "colab": {
          "base_uri": "https://localhost:8080/"
        },
        "id": "BTEpu4R62296",
        "outputId": "d15d38e7-ed0e-4df9-af82-6385104be3ac"
      },
      "outputs": [
        {
          "name": "stdout",
          "output_type": "stream",
          "text": [
            "Collecting langchain\n",
            "  Downloading langchain-0.1.11-py3-none-any.whl (807 kB)\n",
            "\u001b[2K     \u001b[90m━━━━━━━━━━━━━━━━━━━━━━━━━━━━━━━━━━━━━━━━\u001b[0m \u001b[32m807.5/807.5 kB\u001b[0m \u001b[31m11.9 MB/s\u001b[0m eta \u001b[36m0:00:00\u001b[0m\n",
            "\u001b[?25hCollecting OpenAI\n",
            "  Downloading openai-1.13.3-py3-none-any.whl (227 kB)\n",
            "\u001b[2K     \u001b[90m━━━━━━━━━━━━━━━━━━━━━━━━━━━━━━━━━━━━━━━━\u001b[0m \u001b[32m227.4/227.4 kB\u001b[0m \u001b[31m14.5 MB/s\u001b[0m eta \u001b[36m0:00:00\u001b[0m\n",
            "\u001b[?25hCollecting langchain_experimental\n",
            "  Downloading langchain_experimental-0.0.53-py3-none-any.whl (173 kB)\n",
            "\u001b[2K     \u001b[90m━━━━━━━━━━━━━━━━━━━━━━━━━━━━━━━━━━━━━━━━\u001b[0m \u001b[32m173.7/173.7 kB\u001b[0m \u001b[31m12.4 MB/s\u001b[0m eta \u001b[36m0:00:00\u001b[0m\n",
            "\u001b[?25hRequirement already satisfied: transformers in /usr/local/lib/python3.10/dist-packages (4.38.2)\n",
            "Requirement already satisfied: PyYAML>=5.3 in /usr/local/lib/python3.10/dist-packages (from langchain) (6.0.1)\n",
            "Requirement already satisfied: SQLAlchemy<3,>=1.4 in /usr/local/lib/python3.10/dist-packages (from langchain) (2.0.28)\n",
            "Requirement already satisfied: aiohttp<4.0.0,>=3.8.3 in /usr/local/lib/python3.10/dist-packages (from langchain) (3.9.3)\n",
            "Requirement already satisfied: async-timeout<5.0.0,>=4.0.0 in /usr/local/lib/python3.10/dist-packages (from langchain) (4.0.3)\n",
            "Requirement already satisfied: dataclasses-json<0.7,>=0.5.7 in /usr/local/lib/python3.10/dist-packages (from langchain) (0.6.4)\n",
            "Requirement already satisfied: jsonpatch<2.0,>=1.33 in /usr/local/lib/python3.10/dist-packages (from langchain) (1.33)\n",
            "Requirement already satisfied: langchain-community<0.1,>=0.0.25 in /usr/local/lib/python3.10/dist-packages (from langchain) (0.0.27)\n",
            "Requirement already satisfied: langchain-core<0.2,>=0.1.29 in /usr/local/lib/python3.10/dist-packages (from langchain) (0.1.30)\n",
            "Collecting langchain-text-splitters<0.1,>=0.0.1 (from langchain)\n",
            "  Downloading langchain_text_splitters-0.0.1-py3-none-any.whl (21 kB)\n",
            "Requirement already satisfied: langsmith<0.2.0,>=0.1.17 in /usr/local/lib/python3.10/dist-packages (from langchain) (0.1.23)\n",
            "Requirement already satisfied: numpy<2,>=1 in /usr/local/lib/python3.10/dist-packages (from langchain) (1.25.2)\n",
            "Requirement already satisfied: pydantic<3,>=1 in /usr/local/lib/python3.10/dist-packages (from langchain) (2.6.3)\n",
            "Requirement already satisfied: requests<3,>=2 in /usr/local/lib/python3.10/dist-packages (from langchain) (2.31.0)\n",
            "Requirement already satisfied: tenacity<9.0.0,>=8.1.0 in /usr/local/lib/python3.10/dist-packages (from langchain) (8.2.3)\n",
            "Requirement already satisfied: anyio<5,>=3.5.0 in /usr/local/lib/python3.10/dist-packages (from OpenAI) (3.7.1)\n",
            "Requirement already satisfied: distro<2,>=1.7.0 in /usr/lib/python3/dist-packages (from OpenAI) (1.7.0)\n",
            "Collecting httpx<1,>=0.23.0 (from OpenAI)\n",
            "  Downloading httpx-0.27.0-py3-none-any.whl (75 kB)\n",
            "\u001b[2K     \u001b[90m━━━━━━━━━━━━━━━━━━━━━━━━━━━━━━━━━━━━━━━━\u001b[0m \u001b[32m75.6/75.6 kB\u001b[0m \u001b[31m9.8 MB/s\u001b[0m eta \u001b[36m0:00:00\u001b[0m\n",
            "\u001b[?25hRequirement already satisfied: sniffio in /usr/local/lib/python3.10/dist-packages (from OpenAI) (1.3.1)\n",
            "Requirement already satisfied: tqdm>4 in /usr/local/lib/python3.10/dist-packages (from OpenAI) (4.66.2)\n",
            "Requirement already satisfied: typing-extensions<5,>=4.7 in /usr/local/lib/python3.10/dist-packages (from OpenAI) (4.10.0)\n",
            "Requirement already satisfied: filelock in /usr/local/lib/python3.10/dist-packages (from transformers) (3.13.1)\n",
            "Requirement already satisfied: huggingface-hub<1.0,>=0.19.3 in /usr/local/lib/python3.10/dist-packages (from transformers) (0.20.3)\n",
            "Requirement already satisfied: packaging>=20.0 in /usr/local/lib/python3.10/dist-packages (from transformers) (23.2)\n",
            "Requirement already satisfied: regex!=2019.12.17 in /usr/local/lib/python3.10/dist-packages (from transformers) (2023.12.25)\n",
            "Requirement already satisfied: tokenizers<0.19,>=0.14 in /usr/local/lib/python3.10/dist-packages (from transformers) (0.15.2)\n",
            "Requirement already satisfied: safetensors>=0.4.1 in /usr/local/lib/python3.10/dist-packages (from transformers) (0.4.2)\n",
            "Requirement already satisfied: aiosignal>=1.1.2 in /usr/local/lib/python3.10/dist-packages (from aiohttp<4.0.0,>=3.8.3->langchain) (1.3.1)\n",
            "Requirement already satisfied: attrs>=17.3.0 in /usr/local/lib/python3.10/dist-packages (from aiohttp<4.0.0,>=3.8.3->langchain) (23.2.0)\n",
            "Requirement already satisfied: frozenlist>=1.1.1 in /usr/local/lib/python3.10/dist-packages (from aiohttp<4.0.0,>=3.8.3->langchain) (1.4.1)\n",
            "Requirement already satisfied: multidict<7.0,>=4.5 in /usr/local/lib/python3.10/dist-packages (from aiohttp<4.0.0,>=3.8.3->langchain) (6.0.5)\n",
            "Requirement already satisfied: yarl<2.0,>=1.0 in /usr/local/lib/python3.10/dist-packages (from aiohttp<4.0.0,>=3.8.3->langchain) (1.9.4)\n",
            "Requirement already satisfied: idna>=2.8 in /usr/local/lib/python3.10/dist-packages (from anyio<5,>=3.5.0->OpenAI) (3.6)\n",
            "Requirement already satisfied: exceptiongroup in /usr/local/lib/python3.10/dist-packages (from anyio<5,>=3.5.0->OpenAI) (1.2.0)\n",
            "Requirement already satisfied: marshmallow<4.0.0,>=3.18.0 in /usr/local/lib/python3.10/dist-packages (from dataclasses-json<0.7,>=0.5.7->langchain) (3.21.1)\n",
            "Requirement already satisfied: typing-inspect<1,>=0.4.0 in /usr/local/lib/python3.10/dist-packages (from dataclasses-json<0.7,>=0.5.7->langchain) (0.9.0)\n",
            "Requirement already satisfied: certifi in /usr/local/lib/python3.10/dist-packages (from httpx<1,>=0.23.0->OpenAI) (2024.2.2)\n",
            "Collecting httpcore==1.* (from httpx<1,>=0.23.0->OpenAI)\n",
            "  Downloading httpcore-1.0.4-py3-none-any.whl (77 kB)\n",
            "\u001b[2K     \u001b[90m━━━━━━━━━━━━━━━━━━━━━━━━━━━━━━━━━━━━━━━━\u001b[0m \u001b[32m77.8/77.8 kB\u001b[0m \u001b[31m10.2 MB/s\u001b[0m eta \u001b[36m0:00:00\u001b[0m\n",
            "\u001b[?25hCollecting h11<0.15,>=0.13 (from httpcore==1.*->httpx<1,>=0.23.0->OpenAI)\n",
            "  Downloading h11-0.14.0-py3-none-any.whl (58 kB)\n",
            "\u001b[2K     \u001b[90m━━━━━━━━━━━━━━━━━━━━━━━━━━━━━━━━━━━━━━━━\u001b[0m \u001b[32m58.3/58.3 kB\u001b[0m \u001b[31m6.4 MB/s\u001b[0m eta \u001b[36m0:00:00\u001b[0m\n",
            "\u001b[?25hRequirement already satisfied: fsspec>=2023.5.0 in /usr/local/lib/python3.10/dist-packages (from huggingface-hub<1.0,>=0.19.3->transformers) (2023.6.0)\n",
            "Requirement already satisfied: jsonpointer>=1.9 in /usr/local/lib/python3.10/dist-packages (from jsonpatch<2.0,>=1.33->langchain) (2.4)\n",
            "Requirement already satisfied: orjson<4.0.0,>=3.9.14 in /usr/local/lib/python3.10/dist-packages (from langsmith<0.2.0,>=0.1.17->langchain) (3.9.15)\n",
            "Requirement already satisfied: annotated-types>=0.4.0 in /usr/local/lib/python3.10/dist-packages (from pydantic<3,>=1->langchain) (0.6.0)\n",
            "Requirement already satisfied: pydantic-core==2.16.3 in /usr/local/lib/python3.10/dist-packages (from pydantic<3,>=1->langchain) (2.16.3)\n",
            "Requirement already satisfied: charset-normalizer<4,>=2 in /usr/local/lib/python3.10/dist-packages (from requests<3,>=2->langchain) (3.3.2)\n",
            "Requirement already satisfied: urllib3<3,>=1.21.1 in /usr/local/lib/python3.10/dist-packages (from requests<3,>=2->langchain) (2.0.7)\n",
            "Requirement already satisfied: greenlet!=0.4.17 in /usr/local/lib/python3.10/dist-packages (from SQLAlchemy<3,>=1.4->langchain) (3.0.3)\n",
            "Requirement already satisfied: mypy-extensions>=0.3.0 in /usr/local/lib/python3.10/dist-packages (from typing-inspect<1,>=0.4.0->dataclasses-json<0.7,>=0.5.7->langchain) (1.0.0)\n",
            "Installing collected packages: h11, httpcore, httpx, OpenAI, langchain-text-splitters, langchain, langchain_experimental\n",
            "Successfully installed OpenAI-1.13.3 h11-0.14.0 httpcore-1.0.4 httpx-0.27.0 langchain-0.1.11 langchain-text-splitters-0.0.1 langchain_experimental-0.0.53\n"
          ]
        }
      ],
      "source": [
        "!pip install langchain OpenAI langchain_experimental transformers"
      ]
    },
    {
      "cell_type": "code",
      "execution_count": 9,
      "metadata": {
        "colab": {
          "base_uri": "https://localhost:8080/"
        },
        "id": "DriaUL0v2vcl",
        "outputId": "f6c2e4ab-034f-4292-f04b-efedcf4a353c"
      },
      "outputs": [
        {
          "name": "stderr",
          "output_type": "stream",
          "text": [
            "/usr/local/lib/python3.10/dist-packages/langchain_core/_api/deprecation.py:117: LangChainDeprecationWarning: The class `langchain_community.chat_models.openai.ChatOpenAI` was deprecated in langchain-community 0.0.10 and will be removed in 0.2.0. An updated version of the class exists in the langchain-openai package and should be used instead. To use it run `pip install -U langchain-openai` and import as `from langchain_openai import ChatOpenAI`.\n",
            "  warn_deprecated(\n"
          ]
        }
      ],
      "source": [
        "import os\n",
        "from langchain import PromptTemplate\n",
        "from langchain.chat_models import ChatOpenAI\n",
        "from langchain.chains import SequentialChain, LLMChain\n",
        "from langchain.output_parsers import PydanticOutputParser\n",
        "from langchain.pydantic_v1 import BaseModel, Field\n",
        "\n",
        "os.environ[\"OPENAI_API_KEY\"] = \"\"\n",
        "llm = ChatOpenAI(temperature=0, model_name=\"gpt-4\")\n",
        "\n"
      ]
    },
    {
      "cell_type": "markdown",
      "metadata": {
        "id": "XCjamRYz4BhM"
      },
      "source": [
        "# 1 Give initial answers"
      ]
    },
    {
      "cell_type": "code",
      "execution_count": 10,
      "metadata": {
        "id": "ut90LhH521cy"
      },
      "outputs": [],
      "source": [
        "query = \"\"\"here is the exercice you will have to provide feedback on:\n",
        "[EXERCISE]\n",
        "Soit E l'espace vectoriel C(R,R) l'espace vectoriel des fonctions continues sur R. Dire si les applications suivantes sont des applications linéaires : ϕ1: E → E, ϕ1(f)(x) = (f(x))^2; ϕ2: E → E, ϕ2(f)(x) = (f(x^2)); ϕ3: E → E, ϕ3(f)(x) = ∫x0 f(t) dt;\n",
        "\n",
        "[STUDENT ANSWER]\n",
        "this is the answer a student gave to the exercise :To determine if the given functions are linear transformations, we need to check if they satisfy the properties of linearity.\n",
        "\n",
        "1. For ϕ1:\n",
        "ϕ1(f)(x) = (f(x))^2\n",
        "\n",
        "To check if it's linear, let's consider two functions f and g in E and a scalar k.\n",
        "\n",
        "ϕ1(f + g)(x) = (f(x) + g(x))^2 = (f(x))^2 + 2f(x)g(x) + (g(x))^2\n",
        "ϕ1(f)(x) + ϕ1(g)(x) = (f(x))^2 + (g(x))^2\n",
        "\n",
        "Since (f(x))^2 + 2f(x)g(x) + (g(x))^2 is not equal to (f(x))^2 + (g(x))^2, ϕ1 does not satisfy the property of linearity. Therefore, ϕ1 is not a linear transformation.\n",
        "\n",
        "2. For ϕ2:\n",
        "ϕ2(f)(x) = f(x^2)\n",
        "\n",
        "To check linearity, again consider functions f and g in E and the scalar k.\n",
        "\n",
        "ϕ2(f + g)(x) = (f + g)(x^2) = f(x^2) + g(x^2)\n",
        "ϕ2(f)(x) + ϕ2(g)(x) = f(x^2) + g(x^2)\n",
        "\n",
        "Since ϕ2(f + g)(x) is equal to ϕ2(f)(x) + ϕ2(g)(x), ϕ2 satisfies the property of linearity. Therefore, ϕ2 is a linear transformation.\n",
        "\n",
        "3. For ϕ3:\n",
        "ϕ3(f)(x) = ∫[0,x] f(t) dt\n",
        "\n",
        "Again, let's check linearity by considering functions f and g in E and the scalar k.\n",
        "\n",
        "ϕ3(f + g)(x) = ∫[0,x] (f(t) + g(t)) dt = ∫[0,x] f(t) dt + ∫[0,x] g(t) dt\n",
        "ϕ3(f)(x) + ϕ3(g)(x) = ∫[0,x] f(t) dt + ∫[0,x] g(t) dt\n",
        "\n",
        "Since ϕ3(f + g)(x) is equal to ϕ3(f)(x) + ϕ3(g)(x), ϕ3 satisfies the property of linearity. Therefore, ϕ3 is a linear transformation.\n",
        "\n",
        "In conclusion, ϕ2 and ϕ3 are linear transformations, while ϕ1 is not.\n",
        "\n",
        "\n",
        "[OFFICIAL CORRECTION]\n",
        "\n",
        "This is the official correction of the exercice :\n",
        "Non! Considérons les fonctions f et g définies par f(x) = x et g(x) = x.\n",
        "Alors pour tout x ∈ R, (f+g)(x) = 2x de sorte que ϕ1(f+g)(x) = 4x^2, alors que ϕ1(f)(x) + ϕ1(g)(x) = x^2 + x^2 = 2x^2.\n",
        "On a donc ϕ1(f+g) ≠ ϕ1(f) + ϕ1(g) et donc ϕ1 n'est pas une application linéaire. Oui! Soit f, g dans E et λ ∈ R.\n",
        "Alors pour tout x ∈ R, ϕ2(f+g)(x) = (f+g)(x^2) = f(x^2) + g(x^2) = ϕ2(f)(x) + ϕ2(g)(x) et ϕ2(λf)(x) = (λf)(x^2) = λf(x^2) = λϕ2(f)(x).\n",
        "Remarquons que la place du carré (sur la variable ici) diffère de la place du carré dans la première question (sur la fonction).\n",
        "Oui! Ceci découle de la linéarité de l'intégrale. Soit f, g dans E et λ ∈ R.\n",
        "Alors pour tout x ∈ R, ϕ3(f+g)(x) = ∫x0 (f+g)(t) dt = ∫x0 f(t) dt + ∫x0 g(t) dt = ϕ3(f)(x) + ϕ3(g)(x) et ϕ3(λf)(x) = ∫x0 (λf)(t) dt = λ∫x0 f(t) dt = λϕ3(f)(x).\n",
        "\n",
        "[GOAL]\n",
        " please provide feedback on the answer of the student : is it correct ? If not, what is wrong ?\"\"\""
      ]
    },
    {
      "cell_type": "code",
      "execution_count": 11,
      "metadata": {
        "id": "HCHkS5Yg2-xf"
      },
      "outputs": [],
      "source": [
        "input_variables = [\"query\"]\n",
        "base_response_output_key = \"base_response\"\n",
        "base_response_template = \"\"\"Question: {query} Answer:\"\"\"\n",
        "base_repsonse_prompt_template = PromptTemplate(\n",
        "    input_variables=input_variables, template=base_response_template\n",
        ")\n",
        "base_response_chain = LLMChain(\n",
        "    llm=llm, prompt=base_repsonse_prompt_template, output_key=base_response_output_key\n",
        ")"
      ]
    },
    {
      "cell_type": "markdown",
      "metadata": {
        "id": "9Koa8p9h35l-"
      },
      "source": [
        "# 2 Create verifications questions"
      ]
    },
    {
      "cell_type": "code",
      "execution_count": 12,
      "metadata": {
        "id": "J8I06QQl3Djs"
      },
      "outputs": [],
      "source": [
        "plan_verifications_template = \"\"\"\n",
        "Given the below Question and answer, generate a series of verification questions that test the factual claims in the original baseline response and their plosibility. The goal is to reduce hallucination by checking every claim (whether it's agreeing with the student or claiming an error) to ensure that the feedback is correct, not missing any errors nor claiming an error that the student did not do. for example ask how you are suppose to prove linearity and then if the student did all the steps. be a bit creative and don't just rewrite the affirmations as questions\n",
        "\n",
        "Question: {query}\n",
        "Answer: {base_response}\n",
        "\n",
        "<fact in passage>, <verification question, generated by combining the query and the fact>\n",
        "\n",
        "{format_instructions}\n",
        "\"\"\"\n",
        "\n",
        "class PlanVerificationsOutput(BaseModel):\n",
        "    query: str = Field(description=\"The user's query\")\n",
        "    base_response: str = Field(description=\"The response to the user's query\")\n",
        "    facts_and_verification_questions: dict[str, str] = Field(\n",
        "        description=\"Facts (as the dictionary keys) extracted from the response and verification questions related to the query (as the dictionary values)\"\n",
        "    )\n",
        "\n",
        "plan_verifications_output_parser = PydanticOutputParser(\n",
        "    pydantic_object=PlanVerificationsOutput\n",
        ")\n",
        "plan_verifications_prompt_template = PromptTemplate(\n",
        "    input_variables=input_variables + [base_response_output_key],\n",
        "    template=plan_verifications_template,\n",
        "    partial_variables={\n",
        "        \"format_instructions\": plan_verifications_output_parser.get_format_instructions()\n",
        "    },\n",
        ")\n",
        "plan_verifications_chain = LLMChain(\n",
        "    llm=llm,\n",
        "    prompt=plan_verifications_prompt_template,\n",
        "    output_key=\"output\",\n",
        "    output_parser=plan_verifications_output_parser,\n",
        ")"
      ]
    },
    {
      "cell_type": "code",
      "execution_count": 13,
      "metadata": {
        "colab": {
          "base_uri": "https://localhost:8080/"
        },
        "id": "40q_gqLX3K_m",
        "outputId": "1434aee9-78e6-46e5-c3c5-a9664fa7e07a"
      },
      "outputs": [
        {
          "name": "stderr",
          "output_type": "stream",
          "text": [
            "/usr/local/lib/python3.10/dist-packages/langchain_core/_api/deprecation.py:117: LangChainDeprecationWarning: The function `run` was deprecated in LangChain 0.1.0 and will be removed in 0.2.0. Use invoke instead.\n",
            "  warn_deprecated(\n"
          ]
        },
        {
          "name": "stdout",
          "output_type": "stream",
          "text": [
            "\n",
            "\n",
            "\u001b[1m> Entering new SequentialChain chain...\u001b[0m\n",
            "\n",
            "\u001b[1m> Finished chain.\u001b[0m\n"
          ]
        }
      ],
      "source": [
        "answer_and_plan_verification = SequentialChain(\n",
        "    chains=[base_response_chain, plan_verifications_chain],\n",
        "    input_variables=[\"query\"],\n",
        "    output_variables=[\"output\"],\n",
        "    verbose=True)\n",
        "\n",
        "intermediate_result = answer_and_plan_verification.run(query)"
      ]
    },
    {
      "cell_type": "code",
      "execution_count": 14,
      "metadata": {
        "colab": {
          "base_uri": "https://localhost:8080/"
        },
        "id": "o34Fa9W33Nw8",
        "outputId": "ea258ab5-459a-4687-ed8c-deb2a3373896"
      },
      "outputs": [
        {
          "name": "stdout",
          "output_type": "stream",
          "text": [
            "The student's answer is partially correct. The student correctly identified that ϕ1 is not a linear transformation and provided a correct explanation. The student also correctly identified that ϕ3 is a linear transformation and provided a correct explanation. However, the student made a mistake in evaluating ϕ2. The student claimed that ϕ2 is a linear transformation, but this is incorrect. The student failed to check the second property of linearity, which is scalar multiplication. For an application to be linear, it must satisfy both additivity and scalar multiplication. The student only checked for additivity in the case of ϕ2. In the case of ϕ2, if we consider a function f in E and a scalar k, ϕ2(kf)(x) = (kf)(x^2) = k*f(x^2) which is not equal to k*ϕ2(f)(x). Therefore, ϕ2 does not satisfy the property of linearity and is not a linear transformation. The student should have checked both properties of linearity (additivity and scalar multiplication) for each application.\n",
            "{'The student correctly identified that ϕ1 is not a linear transformation and provided a correct explanation.': 'What are the properties of linearity and how did the student use them to determine that ϕ1 is not a linear transformation?', 'The student also correctly identified that ϕ3 is a linear transformation and provided a correct explanation.': 'What are the properties of linearity and how did the student use them to determine that ϕ3 is a linear transformation?', 'The student made a mistake in evaluating ϕ2. The student claimed that ϕ2 is a linear transformation, but this is incorrect.': 'What mistake did the student make when evaluating ϕ2 and why is it incorrect to claim that ϕ2 is a linear transformation?', 'The student failed to check the second property of linearity, which is scalar multiplication.': 'What is the second property of linearity and why is it important to check it when determining if an application is linear?', 'ϕ2(kf)(x) = (kf)(x^2) = k*f(x^2) which is not equal to k*ϕ2(f)(x). Therefore, ϕ2 does not satisfy the property of linearity and is not a linear transformation.': 'How does the equation ϕ2(kf)(x) = (kf)(x^2) = k*f(x^2) demonstrate that ϕ2 does not satisfy the property of linearity and is not a linear transformation?'}\n"
          ]
        }
      ],
      "source": [
        "print(intermediate_result.base_response)\n",
        "\n",
        "print(intermediate_result.facts_and_verification_questions)\n"
      ]
    },
    {
      "cell_type": "markdown",
      "metadata": {
        "id": "Znm-zNAD31eU"
      },
      "source": [
        "# 3 Verify answers"
      ]
    },
    {
      "cell_type": "code",
      "execution_count": 15,
      "metadata": {
        "id": "yWTxRFgU3R94"
      },
      "outputs": [],
      "source": [
        "claimed_facts = list(intermediate_result.facts_and_verification_questions.keys())\n",
        "verification_questions = list(\n",
        "    intermediate_result.facts_and_verification_questions.values()\n",
        ")\n",
        "verify_results_str = \"\"\n",
        "verify_input_variables = [\"query\", \"base_response\", \"question\"]\n",
        "verify_output_key = \"answer\"\n",
        "verify_template = \"\"\"You are going to fact check your previous answer :\n",
        "\n",
        "Question: {query}\\n\n",
        "Answer: {base_response}\n",
        "\\n Fact check question : {question}\"\"\"\n",
        "\n",
        "verify_prompt_template = PromptTemplate(\n",
        "    input_variables=verify_input_variables, template=verify_template\n",
        ")\n",
        "\n",
        "verify_chain = LLMChain(\n",
        "    llm=llm, prompt=verify_prompt_template, output_key=verify_output_key\n",
        ")\n",
        "\n",
        "# Answering verification questions independently\n",
        "for i in range(len(verification_questions)):\n",
        "    claimed_fact = claimed_facts[i]\n",
        "    question = verification_questions[i]\n",
        "    answer = verify_chain.run(query=query, base_response=intermediate_result.base_response, question=question)\n",
        "    answer = answer.lstrip(\"\\n\")\n",
        "    verify_results_str += f\"Question: {question}\\nAnswer: {answer}\\n\\n\""
      ]
    },
    {
      "cell_type": "code",
      "execution_count": 16,
      "metadata": {
        "colab": {
          "base_uri": "https://localhost:8080/"
        },
        "id": "G-uw9RHz3eG7",
        "outputId": "89383f7b-629f-415e-df4e-373050d45fb7"
      },
      "outputs": [
        {
          "name": "stdout",
          "output_type": "stream",
          "text": [
            "Question: What are the properties of linearity and how did the student use them to determine that ϕ1 is not a linear transformation?\n",
            "Answer: The properties of linearity are additivity and scalar multiplication. Additivity means that for any two vectors v and w, the transformation of their sum is equal to the sum of their transformations. Scalar multiplication means that for any vector v and any scalar k, the transformation of the product of k and v is equal to the product of k and the transformation of v.\n",
            "\n",
            "In the case of ϕ1, the student used the property of additivity to determine that it is not a linear transformation. The student showed that ϕ1(f + g)(x) = (f(x) + g(x))^2 is not equal to ϕ1(f)(x) + ϕ1(g)(x) = (f(x))^2 + (g(x))^2, thus ϕ1 does not satisfy the property of additivity, and therefore is not a linear transformation.\n",
            "\n",
            "Question: What are the properties of linearity and how did the student use them to determine that ϕ3 is a linear transformation?\n",
            "Answer: The properties of linearity are additivity and scalar multiplication. Additivity means that for any two vectors v and w, the transformation of their sum is equal to the sum of their transformations. Scalar multiplication means that for any vector v and any scalar k, the transformation of the product of k and v is equal to the product of k and the transformation of v.\n",
            "\n",
            "In the case of ϕ3, the student correctly used these properties to determine that it is a linear transformation. For additivity, the student showed that ϕ3(f + g)(x) = ∫[0,x] (f(t) + g(t)) dt = ∫[0,x] f(t) dt + ∫[0,x] g(t) dt = ϕ3(f)(x) + ϕ3(g)(x). For scalar multiplication, although the student didn't explicitly show it in their answer, it can be shown that ϕ3(kf)(x) = ∫[0,x] (kf(t)) dt = k∫[0,x] f(t) dt = kϕ3(f)(x). Therefore, ϕ3 satisfies both properties of linearity and is a linear transformation.\n",
            "\n",
            "Question: What mistake did the student make when evaluating ϕ2 and why is it incorrect to claim that ϕ2 is a linear transformation?\n",
            "Answer: The student made a mistake in evaluating ϕ2 by only checking for additivity and not scalar multiplication, which is the second property of linearity. For an application to be linear, it must satisfy both additivity and scalar multiplication. In the case of ϕ2, if we consider a function f in E and a scalar k, ϕ2(kf)(x) = (kf)(x^2) = k*f(x^2) which is not equal to k*ϕ2(f)(x). Therefore, ϕ2 does not satisfy the property of linearity and it is incorrect to claim that ϕ2 is a linear transformation.\n",
            "\n",
            "Question: What is the second property of linearity and why is it important to check it when determining if an application is linear?\n",
            "Answer: The second property of linearity is scalar multiplication. This property states that for any scalar k and any vector v, the transformation of the scalar multiple kv is equal to the scalar multiple of the transformation of v. In other words, T(kv) = kT(v). This property is important to check when determining if an application is linear because a linear transformation must satisfy both additivity and scalar multiplication. If an application does not satisfy both of these properties, it is not a linear transformation.\n",
            "\n",
            "Question: How does the equation ϕ2(kf)(x) = (kf)(x^2) = k*f(x^2) demonstrate that ϕ2 does not satisfy the property of linearity and is not a linear transformation?\n",
            "Answer: The equation ϕ2(kf)(x) = (kf)(x^2) = k*f(x^2) demonstrates that ϕ2 does not satisfy the property of linearity and is not a linear transformation because for an application to be linear, it must satisfy both additivity and scalar multiplication. In the case of scalar multiplication, the equation should be ϕ2(kf)(x) = k*ϕ2(f)(x). However, in this case, ϕ2(kf)(x) = k*f(x^2) which is not equal to k*ϕ2(f)(x). Therefore, ϕ2 does not satisfy the property of linearity and is not a linear transformation.\n",
            "\n",
            "\n"
          ]
        }
      ],
      "source": [
        "print(verify_results_str)\n"
      ]
    },
    {
      "cell_type": "markdown",
      "metadata": {
        "id": "1pwiLbVE3vOZ"
      },
      "source": [
        "# 4 Final response"
      ]
    },
    {
      "cell_type": "code",
      "execution_count": 17,
      "metadata": {
        "id": "n1NBpJ_o3ezt"
      },
      "outputs": [],
      "source": [
        "final_response_input_variables = [\"query\", \"base_response\", \"verify_results\"]\n",
        "final_response_template = \"\"\"Given the ORIGINAL_QUESTION and the ORIGINAL_RESPONSE,\n",
        "revise the ORIGINAL_RESPONSE (if applicable) such that it is consistent with information in VERIFIED_SOURCE.\n",
        "Only keep consistent information and answer that still make sense with the VERIFIED_SOURCE.\n",
        "\n",
        "<ORIGINAL_QUESTION>\n",
        "{query}\n",
        "\n",
        "<ORIGINAL_RESPONSE>\n",
        "{base_response}\n",
        "\n",
        "<VERIFIED_SOURCE>\n",
        "{verify_results}\n",
        "\n",
        "Final response:\n",
        "\"\"\"\n",
        "final_response_prompt_template = PromptTemplate(\n",
        "    input_variables=final_response_input_variables,\n",
        "    template=final_response_template,\n",
        ")\n",
        "\n",
        "final_response_chain = LLMChain(llm=llm, prompt=final_response_prompt_template)\n",
        "\n",
        "final_response = final_response_chain.run(\n",
        "    query=intermediate_result.query,\n",
        "    base_response=intermediate_result.base_response,\n",
        "    verify_results=verify_results_str,\n",
        ")"
      ]
    },
    {
      "cell_type": "code",
      "execution_count": 18,
      "metadata": {
        "colab": {
          "base_uri": "https://localhost:8080/"
        },
        "id": "F33IMVsn49dm",
        "outputId": "aa7e0cd9-f414-4c75-dd3a-8f8fc178dce3"
      },
      "outputs": [
        {
          "name": "stdout",
          "output_type": "stream",
          "text": [
            "initial answer : \n",
            " The student's answer is partially correct. The student correctly identified that ϕ1 is not a linear transformation and provided a correct explanation. The student also correctly identified that ϕ3 is a linear transformation and provided a correct explanation. However, the student made a mistake in evaluating ϕ2. The student claimed that ϕ2 is a linear transformation, but this is incorrect. The student failed to check the second property of linearity, which is scalar multiplication. For an application to be linear, it must satisfy both additivity and scalar multiplication. The student only checked for additivity in the case of ϕ2. In the case of ϕ2, if we consider a function f in E and a scalar k, ϕ2(kf)(x) = (kf)(x^2) = k*f(x^2) which is not equal to k*ϕ2(f)(x). Therefore, ϕ2 does not satisfy the property of linearity and is not a linear transformation. The student should have checked both properties of linearity (additivity and scalar multiplication) for each application.\n",
            "\n",
            "\n",
            "final answer : \n",
            " The student's answer is partially correct. The student correctly identified that ϕ1 is not a linear transformation and provided a correct explanation, demonstrating that ϕ1 does not satisfy the property of additivity. The student also correctly identified that ϕ3 is a linear transformation and provided a correct explanation, showing that ϕ3 satisfies both properties of linearity, additivity and scalar multiplication. However, the student made a mistake in evaluating ϕ2. The student claimed that ϕ2 is a linear transformation, but this is incorrect. The student failed to check the second property of linearity, which is scalar multiplication. For an application to be linear, it must satisfy both additivity and scalar multiplication. The student only checked for additivity in the case of ϕ2. In the case of ϕ2, if we consider a function f in E and a scalar k, ϕ2(kf)(x) = (kf)(x^2) = k*f(x^2) which is not equal to k*ϕ2(f)(x). Therefore, ϕ2 does not satisfy the property of linearity and is not a linear transformation. The student should have checked both properties of linearity (additivity and scalar multiplication) for each application.\n"
          ]
        }
      ],
      "source": [
        "print(\"initial answer : \\n\", intermediate_result.base_response)\n",
        "\n",
        "print(\"\\n\\nfinal answer : \\n\", final_response)"
      ]
    }
  ],
  "metadata": {
    "colab": {
      "provenance": []
    },
    "kernelspec": {
      "display_name": "Python 3",
      "name": "python3"
    },
    "language_info": {
      "name": "python"
    }
  },
  "nbformat": 4,
  "nbformat_minor": 0
}
