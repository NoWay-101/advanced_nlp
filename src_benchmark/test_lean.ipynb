{
 "cells": [
  {
   "cell_type": "code",
   "execution_count": 35,
   "metadata": {},
   "outputs": [
    {
     "name": "stderr",
     "output_type": "stream",
     "text": [
      "/home/clousty8/.local/share/virtualenvs/test_lean/lib/python3.10/site-packages/lean_client/trio_server.py:41: TrioDeprecationWarning: trio.open_process is deprecated since Trio 0.20.0; use trio.lowlevel.open_process instead (https://github.com/python-trio/trio/issues/1104)\n",
      "  self.process = await trio.open_process(\n"
     ]
    }
   ],
   "source": [
    "#!/usr/bin/env python\n",
    "from pathlib import Path\n",
    "\n",
    "import trio # type: ignore\n",
    "\n",
    "from lean_client.trio_server import TrioLeanServer\n",
    "\n",
    "async def main():\n",
    "    lines = Path('test.lean').read_text().split('\\n')\n",
    "\n",
    "    async with trio.open_nursery() as nursery:\n",
    "        server = TrioLeanServer(nursery, debug=False)\n",
    "        await server.start()\n",
    "        test = await server.full_sync('test.lean')\n",
    "\n",
    "        for i, line in enumerate(lines):\n",
    "            before = await server.state('test.lean', i+1, 0)\n",
    "            after = await server.state('test.lean', i+1, len(line))\n",
    "            if before or after:\n",
    "                print(f'Line {i+1}: {line}')\n",
    "                print(f'State before:\\n{before}\\n')\n",
    "                print(f'State after:\\n{after}\\n')\n",
    "\n",
    "        server.kill()\n",
    "        nursery.cancel_scope.cancel()\n",
    "\n",
    "if __name__ == '__main__':\n",
    "    trio.run(main)"
   ]
  },
  {
   "cell_type": "code",
   "execution_count": null,
   "metadata": {},
   "outputs": [
    {
     "name": "stderr",
     "output_type": "stream",
     "text": [
      "/home/clousty8/.local/share/virtualenvs/test_lean/lib/python3.10/site-packages/lean_client/trio_server.py:41: TrioDeprecationWarning: trio.open_process is deprecated since Trio 0.20.0; use trio.lowlevel.open_process instead (https://github.com/python-trio/trio/issues/1104)\n",
      "  self.process = await trio.open_process(\n"
     ]
    }
   ],
   "source": [
    "import trio\n",
    "\n",
    "from lean_client.trio_server import TrioLeanServer\n",
    "\n",
    "async def check_theorem():\n",
    "    async with trio.open_nursery() as nursery:\n",
    "            # Initialize the Lean server\n",
    "        lean_server = TrioLeanServer(nursery, debug=False)\n",
    "        await lean_server.start()\n",
    "\n",
    "        # Define the Lean code to check the theorem\n",
    "        lean_code = \"\"\"\n",
    "theorem my_theorem : 2 + 1 = 4 :=\n",
    "    begin\n",
    "        refl\n",
    "    end\n",
    "        \"\"\"\n",
    "\n",
    "        # Create a Lean file and fully compile it\n",
    "        filename = \"my_theorem.lean\"\n",
    "        await lean_server.full_sync(filename, lean_code)\n",
    "\n",
    "        # Check the tactic state of the theorem\n",
    "        line = 1  # Adjust the line number based on your Lean code\n",
    "        col = len(lean_code)+1  # Adjust the column number based on your Lean code\n",
    "        tactic_state = await lean_server.state(filename, line, col)\n",
    "        print(tactic_state)\n",
    "\n",
    "        # Check if the theorem is provable\n",
    "        if \"no goals\" in tactic_state:\n",
    "            print(\"The theorem is provable: 2 + 2 = 4\")\n",
    "        else:\n",
    "            print(\"The theorem is not provable.\")\n",
    "\n",
    "        # Clean up and kill the Lean server\n",
    "        lean_server.kill()\n",
    "        nursery.cancel_scope.cancel()\n",
    "\n",
    "\n",
    "if __name__ == \"__main__\":\n",
    "    trio.run(check_theorem)\n"
   ]
  }
 ],
 "metadata": {
  "kernelspec": {
   "display_name": "test_lean",
   "language": "python",
   "name": "python3"
  },
  "language_info": {
   "codemirror_mode": {
    "name": "ipython",
    "version": 3
   },
   "file_extension": ".py",
   "mimetype": "text/x-python",
   "name": "python",
   "nbconvert_exporter": "python",
   "pygments_lexer": "ipython3",
   "version": "3.10.12"
  },
  "orig_nbformat": 4
 },
 "nbformat": 4,
 "nbformat_minor": 2
}
