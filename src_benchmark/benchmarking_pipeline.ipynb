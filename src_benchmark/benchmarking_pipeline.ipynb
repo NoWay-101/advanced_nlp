{
 "cells": [
  {
   "cell_type": "code",
   "execution_count": 2,
   "metadata": {},
   "outputs": [
    {
     "ename": "ModuleNotFoundError",
     "evalue": "No module named 'openai'",
     "output_type": "error",
     "traceback": [
      "\u001b[0;31m---------------------------------------------------------------------------\u001b[0m",
      "\u001b[0;31mModuleNotFoundError\u001b[0m                       Traceback (most recent call last)",
      "Cell \u001b[0;32mIn[2], line 1\u001b[0m\n\u001b[0;32m----> 1\u001b[0m \u001b[38;5;28;01mimport\u001b[39;00m \u001b[38;5;21;01mopenai\u001b[39;00m\n",
      "\u001b[0;31mModuleNotFoundError\u001b[0m: No module named 'openai'"
     ]
    }
   ],
   "source": [
    "import openai"
   ]
  },
  {
   "cell_type": "code",
   "execution_count": null,
   "metadata": {},
   "outputs": [],
   "source": [
    "openai.api_key = \"\"\n",
    "\n",
    "available_models = [\"gpt-3.5-turbo\", \"gpt-4-0314\"]\n",
    "\n",
    "exemple_exercices = [\"aplication_lineaire_1\", \"anneau_2\"]"
   ]
  },
  {
   "cell_type": "code",
   "execution_count": 3,
   "metadata": {},
   "outputs": [],
   "source": [
    "exemple_exercices = [\"aplication_lineaire_1\", \"anneau_2\"]\n",
    "test_exercices = [\"application_lineaire_3\", \"combinaison_lineaire_1\", \"equation_complexe_3\", \"fraction_rationelle_1\", \"fraction_rationelle_3\", \"matrice_1\", \"polynome_1_2\", \"polynome_2_18\"]\n"
   ]
  },
  {
   "cell_type": "code",
   "execution_count": null,
   "metadata": {},
   "outputs": [],
   "source": [
    "\n",
    "def ask_chat(promt : str, model : str = \"gpt-3.5-turbo\") -> str:\n",
    "\n",
    "    response = openai.ChatCompletion.create(\n",
    "        model=model,\n",
    "        messages=[{\"role\" : \"user\", \"content\": promt}],\n",
    "        max_tokens=1000  # Maximum length of the generated response\n",
    "    )\n",
    "\n",
    "    #print(response)\n",
    "    if \"choices\" in response:\n",
    "        choices = response[\"choices\"]\n",
    "        if choices:\n",
    "            generated_text = choices[0][\"message\"][\"content\"].strip()\n",
    "            return generated_text\n",
    "        else:\n",
    "            return \"No response generated.\"\n",
    "    else:\n",
    "        return \"Unexpected response from OpenAI API.\""
   ]
  },
  {
   "cell_type": "code",
   "execution_count": null,
   "metadata": {},
   "outputs": [],
   "source": [
    "def solve_exercise(exercice_title : str) -> None:\n",
    "    \n",
    "\n",
    "    with open(\"exercice_test/\" + exercice_title + \"/exo.txt\", \"r\") as file:\n",
    "        exercice = file.read()\n",
    "\n",
    "    promt = \"Hello, ChatGPT. I have a math exercise that I need help with. Please solve the following problem for me: \" + exercice + \".\"\n",
    "\n",
    "    answer = ask_chat(promt)\n",
    "\n",
    "    with open(\"exercice_test/\" + exercice_title + \"/exemple/answer.txt\", \"w\") as file:\n",
    "        file.write(answer)"
   ]
  },
  {
   "cell_type": "code",
   "execution_count": null,
   "metadata": {},
   "outputs": [],
   "source": [
    "def generate_correction(exercice_title : str):\n",
    "\n",
    "    with open(\"exercice_test/\" + exercice_title + \"/exo.txt\", \"r\") as file:\n",
    "        exercice = file.read()\n",
    "    \n",
    "    with open(\"exercice_test/\" + exercice_title + \"/correction.txt\", \"r\") as file:\n",
    "        correction = file.read()\n",
    "    \n",
    "    with open(\"exercice_test/\"+ exercice_title +\"/exemple/answer.txt\", \"r\") as file:\n",
    "        answer = file.read()\n",
    "\n",
    "    promt = \"this is a math exercices :\" + exercice + \" this is the answer a student gave to the exercise :\" + answer + \" this is the official correction of the exercice :\" + correction + \" please provide feedback on the answer of the student : is it correct ? If not, what is wrong ?\"\n",
    "\n",
    "    feedback = ask_chat(promt, available_models[1])\n",
    "\n",
    "    with open(\"exercice_test/\" + exercice_title + \"/exemple/feedback.txt\", \"w\") as file:\n",
    "        file.write(feedback)"
   ]
  },
  {
   "cell_type": "code",
   "execution_count": 7,
   "metadata": {},
   "outputs": [],
   "source": [
    "def generate_exemple() -> list[str]:\n",
    "        \n",
    "    exemple_prompt = []\n",
    "    for i, exemple_title in enumerate(exemple_exercices):\n",
    "\n",
    "        with open(\"exercice_test/\" + exemple_title + \"/exo.txt\", \"r\") as file:\n",
    "            exemple_exercice = file.read()\n",
    "            exemple_prompt.append(\" Here is the exercices exemple number \" + str(i) + \" : \" + exemple_exercice)\n",
    "\n",
    "        with open(\"exercice_test/\" + exemple_title + \"/correction.txt\", \"r\") as file:\n",
    "            exemple_correction = file.read()\n",
    "            exemple_prompt[i] += \" Here is the official correction of the exemple exrcecise : \" + exemple_correction\n",
    "\n",
    "        with open(\"exercice_test/\" + exemple_title + \"/exemple/good/response.txt\", \"r\") as file:\n",
    "            exemple_good_response = file.read()\n",
    "            exemple_prompt[i] += \" Here is an exemple of good answer for this exercices : \" + exemple_good_response\n",
    "        \n",
    "        with open(\"exercice_test/\" + exemple_title + \"/exemple/good/feedback.txt\", \"r\") as file:\n",
    "            exemple_good_feedback = file.read()\n",
    "            exemple_prompt[i] += \" Here is an exemple of approriate answer for the previous answer : \" + exemple_good_feedback\n",
    "        \n",
    "        with open(\"exercice_test/\" + exemple_title + \"/exemple/bad/response.txt\", \"r\") as file:\n",
    "            exemple_bad_response = file.read()\n",
    "            exemple_prompt[i] += \" Here is an exemple of bad answer for this exercices : \" + exemple_bad_response\n",
    "        \n",
    "        with open(\"exercice_test/\" + exemple_title + \"/exemple/bad/feedback.txt\", \"r\") as file:\n",
    "            exemple_bad_feedback = file.read()\n",
    "            exemple_prompt[i] += \" Here is an exemple of approriate answer for the previous answer : \" + exemple_bad_feedback\n",
    "    \n",
    "    return exemple_prompt\n",
    "        \n",
    "\n",
    "\n",
    "\n",
    "def generate_feedback(exercice_title : str):\n",
    "\n",
    "    prompt_exemple = \" \"\n",
    "\n",
    "    for exemple in generate_exemple():\n",
    "        prompt_exemple += exemple + \" \"\n",
    "\n",
    "    promt = \"I want you to give me feedback on the answer some student gave to a math exercice. I will first give you exemple of other student answer on other exercices, so that you know whatkind of feedback is expected. \"  + prompt_exemple\n",
    "\n",
    "    with open(\"exercice_test/\" + exercice_title + \"/exo.txt\", \"r\") as file:\n",
    "        exercice = file.read()\n",
    "    \n",
    "    with open(\"exercice_test/\" + exercice_title + \"/correction.txt\", \"r\") as file:\n",
    "        correction = file.read()\n",
    "    \n",
    "    with open(\"exercice_test/\"+ exercice_title +\"/exemple/answer.txt\", \"r\") as file:\n",
    "        answer = file.read()\n",
    "\n",
    "    promt = \"Now that you have seen the exemple, here is the exercice you will have to provide feedback on:\" + exercice + \" this is the answer a student gave to the exercise :\" + answer + \" this is the official correction of the exercice :\" + correction + \" please provide feedback on the answer of the student : is it correct ? If not, what is wrong ?\"\n",
    "    print(promt)\n",
    "    return\n",
    "    feedback_gpt3 = ask_chat(promt, available_models[0])\n",
    "    feedback_gpt4 = ask_chat(promt, available_models[1])\n",
    "\n",
    "    with open(\"exercice_test/\" + exercice_title + \"/exemple/feedback/feedback_gpt3.txt\", \"w\") as file:\n",
    "        file.write(feedback_gpt3)\n",
    "    \n",
    "    with open(\"exercice_test/\" + exercice_title + \"/exemple/feedback/feedback_gpt4.txt\", \"w\") as file:\n",
    "        file.write(feedback_gpt4)"
   ]
  },
  {
   "cell_type": "code",
   "execution_count": 5,
   "metadata": {},
   "outputs": [],
   "source": [
    "exercice_title = test_exercices[0]\n",
    "\n",
    "#solve_exercise(exercice_title)\n",
    "#print(\"Exercice solved\")\n",
    "#generate_feedback(exercice_title)"
   ]
  },
  {
   "cell_type": "code",
   "execution_count": 9,
   "metadata": {},
   "outputs": [
    {
     "name": "stdout",
     "output_type": "stream",
     "text": [
      "Now that you have seen the exemple, here is the exercice you will have to provide feedback on:Démontrer qu'il n'existe pas de fraction rationnelle F tel que F2 = X.\n",
      " this is the answer a student gave to the exercise :Pour démontrer qu'il n'existe pas de fraction rationnelle F telle que F² = X, nous pouvons utiliser une contradiction.\n",
      "\n",
      "Supposons qu'il existe une fraction rationnelle F telle que F² = X. \n",
      "\n",
      "Maintenant, nous pouvons écrire la fraction rationnelle F sous sa forme la plus simple, c'est-à-dire, F = P/Q, où P et Q sont des polynômes sans facteur commun.\n",
      "\n",
      "En élevant (F = P/Q) au carré, nous obtenons : (P/Q)² = X. \n",
      "\n",
      "En multipliant les deux côtés de l'équation par Q², nous avons : P² = X * Q².\n",
      "\n",
      "Cela signifie que P² est divisible par tous les facteurs de Q² et vice versa. Cependant, cela impliquerait que P a aussi tous les facteurs de Q.\n",
      "\n",
      "Mais cela est une contradiction, car au départ nous avons dit que P et Q sont sans facteur commun.\n",
      "\n",
      "Il n'est donc pas possible qu'il existe une fraction rationnelle F telle que F² = X. this is the official correction of the exercice :Si F est une fraction rationnelle, alors deg(F^2) = 2 deg(F). Or, deg(X) = 1, et l'équation 2n = 1 n'a pas de solutions dans Z.\n",
      " please provide feedback on the answer of the student : is it correct ? If not, what is wrong ?\n"
     ]
    }
   ],
   "source": [
    "generate_feedback(test_exercices[3])"
   ]
  }
 ],
 "metadata": {
  "kernelspec": {
   "display_name": "Python 3",
   "language": "python",
   "name": "python3"
  },
  "language_info": {
   "codemirror_mode": {
    "name": "ipython",
    "version": 3
   },
   "file_extension": ".py",
   "mimetype": "text/x-python",
   "name": "python",
   "nbconvert_exporter": "python",
   "pygments_lexer": "ipython3",
   "version": "3.10.12"
  },
  "orig_nbformat": 4
 },
 "nbformat": 4,
 "nbformat_minor": 2
}
